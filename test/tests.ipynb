{
 "cells": [
  {
   "cell_type": "code",
   "execution_count": 1,
   "id": "447601bf-abfa-43a0-acca-687c87996b52",
   "metadata": {},
   "outputs": [
    {
     "name": "stdout",
     "output_type": "stream",
     "text": [
      "Cosine Similarity: 0.9650608087224449\n"
     ]
    }
   ],
   "source": [
    "from sklearn.feature_extraction.text import CountVectorizer\n",
    "from sklearn.metrics.pairwise import cosine_similarity\n",
    "\n",
    "def evaluate_summary(automatic_summary, reference_summary):\n",
    "    # Создаем объект CountVectorizer\n",
    "    vectorizer = CountVectorizer()\n",
    "\n",
    "    # Преобразуем тексты в векторы слов\n",
    "    vectors = vectorizer.fit_transform([automatic_summary, reference_summary])\n",
    "\n",
    "    # Рассчитываем косинусное сходство между векторами\n",
    "    cosine_sim = cosine_similarity(vectors)\n",
    "\n",
    "    # Используем косинусное сходство между текстами как метрику\n",
    "    similarity = cosine_sim[0, 1]\n",
    "\n",
    "    return similarity\n",
    "\n",
    "# Пример использования:\n",
    "reference_summary = \"\"\"Файлы, создаваемые с помощью текстовых процессоров,например Microsoft Word, включают в себя не только коды символов алфавита, но и данные формата, тип и размер шрифта, положение строк, поля, отступы и прочую дополнительную информацию.Графическая информация. Принцип дискретности компьютерных данных справедлив и для графики.Однако в основе все равно лежит печать близких друг к другу точек. В зависимости от того на какое графическое разрешение экрана настроена операционная система \"\"\"\n",
    "automatic_summary = \"\"\"Файлы создаваемые с помощью текстовых процессоров например Microsoft Word включают в себя не только коды символов алфавита но и данные формата тип и размер шрифта положение строк поля отступы и прочую дополнительную информацию.1.3 Графическая информацияПринцип дискретности компьютерных данных справедлив и для графики. Однако в основе все равно лежит печать близких друг к другу точек.В зависимости от того на какое графическое разрешение экрана настроена операционная \"\"\"\n",
    "\n",
    "# Вызываем функцию evaluate_summary и сохраняем результат в переменную\n",
    "similarity = evaluate_summary(automatic_summary, reference_summary)\n",
    "\n",
    "# Выводим результат\n",
    "print(f\"Cosine Similarity: {similarity}\")\n"
   ]
  },
  {
   "cell_type": "code",
   "execution_count": 2,
   "id": "3fcb5ad7-d5bd-458a-9dae-a87e44daf17f",
   "metadata": {},
   "outputs": [
    {
     "name": "stdout",
     "output_type": "stream",
     "text": [
      "Cosine Similarity: 0.9684747092264967\n"
     ]
    }
   ],
   "source": [
    "from sklearn.feature_extraction.text import CountVectorizer\n",
    "from sklearn.metrics.pairwise import cosine_similarity\n",
    "\n",
    "def evaluate_summary(automatic_summary, reference_summary):\n",
    "    # Создаем объект CountVectorizer\n",
    "    vectorizer = CountVectorizer()\n",
    "\n",
    "    # Преобразуем тексты в векторы слов\n",
    "    vectors = vectorizer.fit_transform([automatic_summary, reference_summary])\n",
    "\n",
    "    # Рассчитываем косинусное сходство между векторами\n",
    "    cosine_sim = cosine_similarity(vectors)\n",
    "\n",
    "    # Используем косинусное сходство между текстами как метрику\n",
    "    similarity = cosine_sim[0, 1]\n",
    "\n",
    "    return similarity\n",
    "\n",
    "# Пример использования:\n",
    "reference_summary = \"\"\"В начале 1990х годов объединение элементов ООП в Паскале с визуальной технологией программирования привело к созданию системы программирования Delphi. Структура процедурных языков программирования высокого уровня. Во всяком языке программирования определены способы организации данных и способы организаций действий над данными.\"\"\"\n",
    "automatic_summary = \"\"\"В начале 1990х годов объединение элементов ООП в Паскале с визуальной технологией программирования привело к созданию системы программирования Delphi.7.2 Структура процедурных языков программирования высокого уровняВо всяком языке программирования определены способы организации данных и способы организаций действий над данными. \"\"\"\n",
    "\n",
    "# Вызываем функцию evaluate_summary и сохраняем результат в переменную\n",
    "similarity = evaluate_summary(automatic_summary, reference_summary)\n",
    "\n",
    "# Выводим результат\n",
    "print(f\"Cosine Similarity: {similarity}\")\n"
   ]
  },
  {
   "cell_type": "code",
   "execution_count": null,
   "id": "8025f529-40ee-4dc7-be7e-06c5719448ee",
   "metadata": {},
   "outputs": [],
   "source": []
  }
 ],
 "metadata": {
  "kernelspec": {
   "display_name": "Python 3 (ipykernel)",
   "language": "python",
   "name": "python3"
  },
  "language_info": {
   "codemirror_mode": {
    "name": "ipython",
    "version": 3
   },
   "file_extension": ".py",
   "mimetype": "text/x-python",
   "name": "python",
   "nbconvert_exporter": "python",
   "pygments_lexer": "ipython3",
   "version": "3.11.0"
  }
 },
 "nbformat": 4,
 "nbformat_minor": 5
}
