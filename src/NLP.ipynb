{
 "cells": [
  {
   "cell_type": "code",
   "execution_count": null,
   "id": "6e54c576-e059-4ce1-a0b8-93df5cd475b4",
   "metadata": {},
   "outputs": [],
   "source": [
    "# 1 commit"
   ]
  },
  {
   "cell_type": "code",
   "execution_count": 11,
   "id": "3655cd1c-9d04-4fd0-9949-3f475b2a49b4",
   "metadata": {},
   "outputs": [
    {
     "ename": "FileNotFoundError",
     "evalue": "[Errno 2] No such file or directory: 'lecture1.txt'",
     "output_type": "error",
     "traceback": [
      "\u001b[1;31m---------------------------------------------------------------------------\u001b[0m",
      "\u001b[1;31mFileNotFoundError\u001b[0m                         Traceback (most recent call last)",
      "Cell \u001b[1;32mIn[11], line 73\u001b[0m\n\u001b[0;32m     71\u001b[0m \u001b[38;5;66;03m# Обработка каждой лекции отдельно\u001b[39;00m\n\u001b[0;32m     72\u001b[0m \u001b[38;5;28;01mfor\u001b[39;00m i, lecture_file \u001b[38;5;129;01min\u001b[39;00m \u001b[38;5;28menumerate\u001b[39m(lecture_files):\n\u001b[1;32m---> 73\u001b[0m     \u001b[43mread_lecture\u001b[49m\u001b[43m(\u001b[49m\u001b[43mlecture_file\u001b[49m\u001b[43m)\u001b[49m\n\u001b[0;32m     75\u001b[0m     \u001b[38;5;66;03m# Обработка лекции и вывод результатов\u001b[39;00m\n\u001b[0;32m     76\u001b[0m     lecture_summary \u001b[38;5;241m=\u001b[39m process_lecture()\n",
      "Cell \u001b[1;32mIn[11], line 14\u001b[0m, in \u001b[0;36mread_lecture\u001b[1;34m(file_path)\u001b[0m\n\u001b[0;32m     12\u001b[0m \u001b[38;5;28;01mdef\u001b[39;00m \u001b[38;5;21mread_lecture\u001b[39m(file_path):\n\u001b[0;32m     13\u001b[0m     \u001b[38;5;28;01mglobal\u001b[39;00m lecture_content\n\u001b[1;32m---> 14\u001b[0m     \u001b[38;5;28;01mwith\u001b[39;00m \u001b[38;5;28;43mopen\u001b[39;49m\u001b[43m(\u001b[49m\u001b[43mfile_path\u001b[49m\u001b[43m,\u001b[49m\u001b[43m \u001b[49m\u001b[38;5;124;43m'\u001b[39;49m\u001b[38;5;124;43mr\u001b[39;49m\u001b[38;5;124;43m'\u001b[39;49m\u001b[43m,\u001b[49m\u001b[43m \u001b[49m\u001b[43mencoding\u001b[49m\u001b[38;5;241;43m=\u001b[39;49m\u001b[38;5;124;43m'\u001b[39;49m\u001b[38;5;124;43mutf-8\u001b[39;49m\u001b[38;5;124;43m'\u001b[39;49m\u001b[43m)\u001b[49m \u001b[38;5;28;01mas\u001b[39;00m f:\n\u001b[0;32m     15\u001b[0m         lecture_content \u001b[38;5;241m=\u001b[39m f\u001b[38;5;241m.\u001b[39mread()\n",
      "File \u001b[1;32m~\\AppData\\Roaming\\Python\\Python311\\site-packages\\IPython\\core\\interactiveshell.py:308\u001b[0m, in \u001b[0;36m_modified_open\u001b[1;34m(file, *args, **kwargs)\u001b[0m\n\u001b[0;32m    301\u001b[0m \u001b[38;5;28;01mif\u001b[39;00m file \u001b[38;5;129;01min\u001b[39;00m {\u001b[38;5;241m0\u001b[39m, \u001b[38;5;241m1\u001b[39m, \u001b[38;5;241m2\u001b[39m}:\n\u001b[0;32m    302\u001b[0m     \u001b[38;5;28;01mraise\u001b[39;00m \u001b[38;5;167;01mValueError\u001b[39;00m(\n\u001b[0;32m    303\u001b[0m         \u001b[38;5;124mf\u001b[39m\u001b[38;5;124m\"\u001b[39m\u001b[38;5;124mIPython won\u001b[39m\u001b[38;5;124m'\u001b[39m\u001b[38;5;124mt let you open fd=\u001b[39m\u001b[38;5;132;01m{\u001b[39;00mfile\u001b[38;5;132;01m}\u001b[39;00m\u001b[38;5;124m by default \u001b[39m\u001b[38;5;124m\"\u001b[39m\n\u001b[0;32m    304\u001b[0m         \u001b[38;5;124m\"\u001b[39m\u001b[38;5;124mas it is likely to crash IPython. If you know what you are doing, \u001b[39m\u001b[38;5;124m\"\u001b[39m\n\u001b[0;32m    305\u001b[0m         \u001b[38;5;124m\"\u001b[39m\u001b[38;5;124myou can use builtins\u001b[39m\u001b[38;5;124m'\u001b[39m\u001b[38;5;124m open.\u001b[39m\u001b[38;5;124m\"\u001b[39m\n\u001b[0;32m    306\u001b[0m     )\n\u001b[1;32m--> 308\u001b[0m \u001b[38;5;28;01mreturn\u001b[39;00m \u001b[43mio_open\u001b[49m\u001b[43m(\u001b[49m\u001b[43mfile\u001b[49m\u001b[43m,\u001b[49m\u001b[43m \u001b[49m\u001b[38;5;241;43m*\u001b[39;49m\u001b[43margs\u001b[49m\u001b[43m,\u001b[49m\u001b[43m \u001b[49m\u001b[38;5;241;43m*\u001b[39;49m\u001b[38;5;241;43m*\u001b[39;49m\u001b[43mkwargs\u001b[49m\u001b[43m)\u001b[49m\n",
      "\u001b[1;31mFileNotFoundError\u001b[0m: [Errno 2] No such file or directory: 'lecture1.txt'"
     ]
    }
   ],
   "source": [
    "import re\n",
    "from nltk.corpus import stopwords\n",
    "from nltk.tokenize import sent_tokenize, word_tokenize\n",
    "from sklearn.feature_extraction.text import TfidfVectorizer, CountVectorizer\n",
    "from sklearn.metrics.pairwise import cosine_similarity\n",
    "from sklearn.decomposition import LatentDirichletAllocation\n",
    "import numpy as np\n",
    "\n",
    "# Глобальная переменная для хранения содержания лекции\n",
    "lecture_content = \"\"\n",
    "\n",
    "def read_lecture(file_path):\n",
    "    global lecture_content\n",
    "    with open(file_path, 'r', encoding='utf-8') as f:\n",
    "        lecture_content = f.read()\n",
    "\n",
    "def process_lecture():\n",
    "    \n",
    "    global lecture_content\n",
    "    threshold=1.9\n",
    "    cosine_similarity_threshold=0.8\n",
    "    \n",
    "    lecture_clean = re.sub(r'[^\\w\\s.\\\\n\\n]', '', lecture_content)\n",
    "    lecture_clean = lecture_clean.replace('\\n', '')\n",
    "\n",
    "    lecture_clean_words = lecture_clean.replace('.', ' ')\n",
    "    \n",
    "    stopWords = set(stopwords.words(\"russian\"))\n",
    "    words = word_tokenize(lecture_clean_words)\n",
    "\n",
    "    freqTable = dict()\n",
    "    for word in words:\n",
    "        word = word.lower()\n",
    "        if word in stopWords:\n",
    "            continue\n",
    "        if word in freqTable:\n",
    "            freqTable[word] += 1\n",
    "        else:\n",
    "            freqTable[word] = 1\n",
    "\n",
    "    sentences = sent_tokenize(lecture_clean)\n",
    "    sentenceRole = dict()\n",
    "    \n",
    "    for sentence in sentences:\n",
    "        for word, freq in freqTable.items():\n",
    "            if word in sentence.lower():\n",
    "                if sentence in sentenceRole:\n",
    "                    sentenceRole[sentence] += freq\n",
    "                else:\n",
    "                    sentenceRole[sentence] = freq\n",
    "    \n",
    "    sumRole = sum(sentenceRole.values())\n",
    "    averageRole = int(sumRole / len(sentenceRole))\n",
    "\n",
    "    tfidf_vectorizer = TfidfVectorizer()\n",
    "    tfidf_matrix = tfidf_vectorizer.fit_transform(sentences)\n",
    "\n",
    "    cosine_similarities = cosine_similarity(tfidf_matrix, tfidf_matrix)\n",
    "\n",
    "    summary_sentences = [sentences[i] for i in range(len(sentences))\n",
    "                         if (sentenceRole[sentences[i]] > (threshold*averageRole) and\n",
    "                             np.max(cosine_similarities[i, :]) > cosine_similarity_threshold)]\n",
    "\n",
    "    summary = ' '.join(summary_sentences)\n",
    "    \n",
    "    return summary\n",
    "\n",
    "# Список файлов для лекций\n",
    "lecture_files = [\"lecture1.txt\", \"lecture2.txt\", \"lecture3.txt\", \"lecture4.txt\", \"lecture5.txt\"]\n",
    "\n",
    "# Обработка каждой лекции отдельно\n",
    "for i, lecture_file in enumerate(lecture_files):\n",
    "    read_lecture(lecture_file)\n",
    "    \n",
    "    # Обработка лекции и вывод результатов\n",
    "    lecture_summary = process_lecture()\n",
    "    print(f\"Summary for {lecture_file}:\\n{lecture_summary}\")\n"
   ]
  },
  {
   "cell_type": "code",
   "execution_count": null,
   "id": "8f27c62c-19bc-4bf2-9454-4424fd5fca28",
   "metadata": {},
   "outputs": [],
   "source": []
  }
 ],
 "metadata": {
  "kernelspec": {
   "display_name": "Python 3 (ipykernel)",
   "language": "python",
   "name": "python3"
  },
  "language_info": {
   "codemirror_mode": {
    "name": "ipython",
    "version": 3
   },
   "file_extension": ".py",
   "mimetype": "text/x-python",
   "name": "python",
   "nbconvert_exporter": "python",
   "pygments_lexer": "ipython3",
   "version": "3.11.0"
  }
 },
 "nbformat": 4,
 "nbformat_minor": 5
}
